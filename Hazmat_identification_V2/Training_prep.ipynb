{
 "cells": [
  {
   "cell_type": "code",
   "execution_count": 1,
   "metadata": {},
   "outputs": [],
   "source": [
    "import os \n",
    "import random\n",
    "from sklearn.model_selection import train_test_split"
   ]
  },
  {
   "cell_type": "code",
   "execution_count": 4,
   "metadata": {},
   "outputs": [],
   "source": [
    "# Read images and annotations\n",
    "images = []\n",
    "for folder in os.listdir('Hazmat Datasets'):\n",
    "    images += os.listdir('Hazmat Datasets/' + folder)\n",
    "annotations = os.listdir('annotations')\n",
    "\n",
    "images.sort()\n",
    "annotations.sort()"
   ]
  },
  {
   "cell_type": "code",
   "execution_count": 5,
   "metadata": {},
   "outputs": [
    {
     "name": "stdout",
     "output_type": "stream",
     "text": [
      "2271\n"
     ]
    }
   ],
   "source": [
    "pairs = []\n",
    "for i in range(len(images)):\n",
    "    image_name = images[i].replace('.jpg', '').replace('.png', '')\n",
    "    for j in range(len(annotations)):\n",
    "        annotation_name = annotations[j].replace('.txt', '')\n",
    "        if image_name == annotation_name:\n",
    "            pairs.append((images[i], annotations[j]))\n",
    "            break\n",
    "print(len(pairs))"
   ]
  },
  {
   "cell_type": "code",
   "execution_count": 6,
   "metadata": {},
   "outputs": [],
   "source": [
    "images = []\n",
    "annotations = []\n",
    "for i in range(len(pairs)):\n",
    "    images.append(pairs[i][0])\n",
    "    annotations.append(pairs[i][1])"
   ]
  },
  {
   "cell_type": "code",
   "execution_count": 7,
   "metadata": {},
   "outputs": [],
   "source": [
    "# Split the dataset into train-valid-test splits \n",
    "train_images, val_images, train_annotations, val_annotations = train_test_split(images, annotations, test_size = 0.2, random_state = 1)\n",
    "val_images, test_images, val_annotations, test_annotations = train_test_split(val_images, val_annotations, test_size = 0.5, random_state = 1)"
   ]
  },
  {
   "cell_type": "code",
   "execution_count": 9,
   "metadata": {},
   "outputs": [],
   "source": [
    "for imagefolder in os.listdir('Hazmat Datasets'):\n",
    "    for file in os.listdir('Hazmat Datasets/' + imagefolder):\n",
    "        if file in train_images:\n",
    "            os.rename('Hazmat Datasets/' + imagefolder + '/' + file, 'images/train/' + file)\n",
    "        elif file in val_images:\n",
    "            os.rename('Hazmat Datasets/' + imagefolder + '/' + file, 'images/val/' + file)\n",
    "        elif file in test_images:\n",
    "            os.rename('Hazmat Datasets/' + imagefolder + '/' + file, 'images/test/' + file)"
   ]
  },
  {
   "cell_type": "code",
   "execution_count": 10,
   "metadata": {},
   "outputs": [],
   "source": [
    "for annotation in os.listdir('annotations'):\n",
    "    if annotation in train_annotations:\n",
    "        os.rename('annotations/' + annotation, 'labels/train/' + annotation)\n",
    "    elif annotation in val_annotations:\n",
    "        os.rename('annotations/' + annotation, 'labels/val/' + annotation)\n",
    "    elif annotation in test_annotations:\n",
    "        os.rename('annotations/' + annotation, 'labels/test/' + annotation)"
   ]
  },
  {
   "cell_type": "code",
   "execution_count": 12,
   "metadata": {},
   "outputs": [
    {
     "name": "stdout",
     "output_type": "stream",
     "text": [
      "1816 1816\n",
      "227 227\n",
      "228 228\n"
     ]
    }
   ],
   "source": [
    "print(len(os.listdir('images/train')), len(os.listdir('labels/train')))\n",
    "print(len(os.listdir('images/val')), len(os.listdir('labels/val')))\n",
    "print(len(os.listdir('images/test')), len(os.listdir('labels/test')))"
   ]
  }
 ],
 "metadata": {
  "kernelspec": {
   "display_name": "Python 3.7.8 64-bit",
   "language": "python",
   "name": "python3"
  },
  "language_info": {
   "codemirror_mode": {
    "name": "ipython",
    "version": 3
   },
   "file_extension": ".py",
   "mimetype": "text/x-python",
   "name": "python",
   "nbconvert_exporter": "python",
   "pygments_lexer": "ipython3",
   "version": "3.7.8"
  },
  "orig_nbformat": 4,
  "vscode": {
   "interpreter": {
    "hash": "a683cbd5c0809e735f55df6499ab43551e40760006a7f9c1ea1c896d55bb3694"
   }
  }
 },
 "nbformat": 4,
 "nbformat_minor": 2
}
